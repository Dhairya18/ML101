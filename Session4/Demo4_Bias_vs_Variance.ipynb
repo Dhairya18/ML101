{
 "cells": [
  {
   "cell_type": "code",
   "execution_count": 1,
   "metadata": {},
   "outputs": [
    {
     "name": "stderr",
     "output_type": "stream",
     "text": [
      "/home/sarthak/.local/lib/python3.6/site-packages/sklearn/cross_validation.py:41: DeprecationWarning: This module was deprecated in version 0.18 in favor of the model_selection module into which all the refactored classes and functions are moved. Also note that the interface of the new CV iterators are different from that of this module. This module will be removed in 0.20.\n",
      "  \"This module will be removed in 0.20.\", DeprecationWarning)\n"
     ]
    }
   ],
   "source": [
    "import numpy as np\n",
    "import scipy\n",
    "import matplotlib.pyplot as plt\n",
    "import random\n",
    "import warnings\n",
    "import sklearn #python library with linear and other models\n",
    "from sklearn.cross_validation import train_test_split\n",
    "warnings.simplefilter(action = \"ignore\", category = FutureWarning)\n",
    "import pandas as pd"
   ]
  },
  {
   "cell_type": "markdown",
   "metadata": {},
   "source": [
    "Creating the data points\n",
    "--------------------------------------------------------------\n",
    "We want to fit a sin wave into a polynomial of finite degree\n",
    "There is gaussian white noise introduced to the samples\n",
    "\n",
    "$$r(x) = f(x) + \\epsilon$$\n",
    "\n",
    "with $\\epsilon\\sim\\mathcal{N}(0,1)$"
   ]
  },
  {
   "cell_type": "code",
   "execution_count": 2,
   "metadata": {
    "scrolled": false
   },
   "outputs": [
    {
     "data": {
      "image/png": "[encoded data removed]",
      "text/plain": [
       "<matplotlib.figure.Figure at 0x7fe9004267f0>"
      ]
     },
     "metadata": {},
     "output_type": "display_data"
    }
   ],
   "source": [
    "X = np.linspace(0, 2*np.pi, 256, endpoint=True)\n",
    "S = np.sin(X)\n",
    "plt.plot(X, S, color=\"green\",  linewidth=1.5, linestyle=\"-\")\n",
    "\n",
    "x = np.random.uniform(0,2*np.pi,25)\n",
    "y = np.sin(x)\n",
    "noise = np.random.normal(0,.5,25)\n",
    "y = y + noise\n",
    "plt.scatter(x,y)\n",
    "plt.show()"
   ]
  },
  {
   "cell_type": "code",
   "execution_count": 6,
   "metadata": {},
   "outputs": [
    {
     "data": {
      "text/plain": [
       "array([[7.40889477e-02, 1.76401504e-01, 4.20001791e-01, 1.00000000e+00],\n",
       "       [7.84741580e+01, 1.83295207e+01, 4.28129896e+00, 1.00000000e+00],\n",
       "       [3.82489113e+01, 1.13521831e+01, 3.36930008e+00, 1.00000000e+00],\n",
       "       [6.48859930e-04, 7.49492521e-03, 8.65732361e-02, 1.00000000e+00],\n",
       "       [1.03745205e+02, 2.20789638e+01, 4.69882579e+00, 1.00000000e+00],\n",
       "       [1.15369044e+00, 1.10000045e+00, 1.04880906e+00, 1.00000000e+00],\n",
       "       [4.33101979e+01, 1.23327552e+01, 3.51180228e+00, 1.00000000e+00],\n",
       "       [1.09913771e+01, 4.94350227e+00, 2.22339881e+00, 1.00000000e+00],\n",
       "       [1.34188681e+01, 5.64690639e+00, 2.37632203e+00, 1.00000000e+00],\n",
       "       [9.76401563e+01, 2.12040577e+01, 4.60478639e+00, 1.00000000e+00],\n",
       "       [5.20991466e+00, 3.00529475e+00, 1.73357860e+00, 1.00000000e+00],\n",
       "       [3.97875596e+01, 1.16546222e+01, 3.41388668e+00, 1.00000000e+00],\n",
       "       [1.14216899e+01, 5.07170024e+00, 2.25204357e+00, 1.00000000e+00],\n",
       "       [7.05003122e+01, 1.70658278e+01, 4.13108071e+00, 1.00000000e+00],\n",
       "       [8.26776548e+01, 1.89783637e+01, 4.35641639e+00, 1.00000000e+00],\n",
       "       [1.67544063e+02, 3.03915391e+01, 5.51285218e+00, 1.00000000e+00],\n",
       "       [1.53862997e+02, 2.87137199e+01, 5.35851844e+00, 1.00000000e+00],\n",
       "       [7.01338311e+00, 3.66396831e+00, 1.91414950e+00, 1.00000000e+00],\n",
       "       [1.71686130e+00, 1.43380516e+00, 1.19741604e+00, 1.00000000e+00],\n",
       "       [3.34031562e+01, 1.03719004e+01, 3.22054349e+00, 1.00000000e+00],\n",
       "       [1.22812078e+01, 5.32305214e+00, 2.30717406e+00, 1.00000000e+00],\n",
       "       [1.23785391e+02, 2.48377887e+01, 4.98375247e+00, 1.00000000e+00],\n",
       "       [1.87322899e+02, 3.27386359e+01, 5.72176860e+00, 1.00000000e+00],\n",
       "       [7.38392279e+01, 1.76004902e+01, 4.19529382e+00, 1.00000000e+00],\n",
       "       [8.93758319e+01, 1.99900278e+01, 4.47102089e+00, 1.00000000e+00]])"
      ]
     },
     "execution_count": 6,
     "metadata": {},
     "output_type": "execute_result"
    }
   ],
   "source": [
    "np.vander(x,3 + 1)"
   ]
  },
  {
   "cell_type": "code",
   "execution_count": 9,
   "metadata": {},
   "outputs": [
    {
     "ename": "AttributeError",
     "evalue": "module 'numpy' has no attribute 'help'",
     "output_type": "error",
     "traceback": [
      "\u001b[0;31m---------------------------------------------------------------------------\u001b[0m",
      "\u001b[0;31mAttributeError\u001b[0m                            Traceback (most recent call last)",
      "\u001b[0;32m<ipython-input-9-98fd8681e99e>\u001b[0m in \u001b[0;36m<module>\u001b[0;34m()\u001b[0m\n\u001b[0;32m----> 1\u001b[0;31m \u001b[0mnp\u001b[0m\u001b[0;34m.\u001b[0m\u001b[0mhelp\u001b[0m\u001b[0;34m(\u001b[0m\u001b[0;34m)\u001b[0m\u001b[0;34m\u001b[0m\u001b[0m\n\u001b[0m",
      "\u001b[0;31mAttributeError\u001b[0m: module 'numpy' has no attribute 'help'"
     ]
    }
   ],
   "source": []
  },
  {
   "cell_type": "markdown",
   "metadata": {},
   "source": [
    "Linear Regression\n",
    "---------------------"
   ]
  },
  {
   "cell_type": "code",
   "execution_count": 3,
   "metadata": {},
   "outputs": [
    {
     "ename": "NameError",
     "evalue": "name 'LinearRegression' is not defined",
     "output_type": "error",
     "traceback": [
      "\u001b[0;31m---------------------------------------------------------------------------\u001b[0m",
      "\u001b[0;31mNameError\u001b[0m                                 Traceback (most recent call last)",
      "\u001b[0;32m<ipython-input-3-d181aceeff1c>\u001b[0m in \u001b[0;36m<module>\u001b[0;34m()\u001b[0m\n\u001b[1;32m     22\u001b[0m     \u001b[0;32mreturn\u001b[0m \u001b[0my\u001b[0m\u001b[0;34m\u001b[0m\u001b[0m\n\u001b[1;32m     23\u001b[0m \u001b[0;34m\u001b[0m\u001b[0m\n\u001b[0;32m---> 24\u001b[0;31m \u001b[0mmodel\u001b[0m \u001b[0;34m=\u001b[0m \u001b[0mfit_polynomial\u001b[0m\u001b[0;34m(\u001b[0m\u001b[0mx\u001b[0m\u001b[0;34m,\u001b[0m \u001b[0my\u001b[0m\u001b[0;34m,\u001b[0m \u001b[0;36m8\u001b[0m\u001b[0;34m)\u001b[0m\u001b[0;34m\u001b[0m\u001b[0m\n\u001b[0m\u001b[1;32m     25\u001b[0m \u001b[0mp_y\u001b[0m \u001b[0;34m=\u001b[0m \u001b[0mapply_polynomial\u001b[0m\u001b[0;34m(\u001b[0m\u001b[0mmodel\u001b[0m\u001b[0;34m,\u001b[0m \u001b[0mx\u001b[0m\u001b[0;34m)\u001b[0m\u001b[0;34m\u001b[0m\u001b[0m\n\u001b[1;32m     26\u001b[0m \u001b[0mplt\u001b[0m\u001b[0;34m.\u001b[0m\u001b[0mplot\u001b[0m\u001b[0;34m(\u001b[0m\u001b[0mx\u001b[0m\u001b[0;34m,\u001b[0m \u001b[0my\u001b[0m\u001b[0;34m)\u001b[0m\u001b[0;34m\u001b[0m\u001b[0m\n",
      "\u001b[0;32m<ipython-input-3-d181aceeff1c>\u001b[0m in \u001b[0;36mfit_polynomial\u001b[0;34m(x, y, degree)\u001b[0m\n\u001b[1;32m      8\u001b[0m     '''\n\u001b[1;32m      9\u001b[0m     \u001b[0mmodel\u001b[0m \u001b[0;34m=\u001b[0m \u001b[0mlinear_model\u001b[0m\u001b[0;34m.\u001b[0m\u001b[0mLinearRegression\u001b[0m\u001b[0;34m(\u001b[0m\u001b[0;34m)\u001b[0m\u001b[0;34m\u001b[0m\u001b[0m\n\u001b[0;32m---> 10\u001b[0;31m     \u001b[0mmodel\u001b[0m \u001b[0;34m=\u001b[0m \u001b[0mLinearRegression\u001b[0m\u001b[0;34m(\u001b[0m\u001b[0;34m)\u001b[0m\u001b[0;34m\u001b[0m\u001b[0m\n\u001b[0m\u001b[1;32m     11\u001b[0m     \u001b[0mmodel\u001b[0m\u001b[0;34m.\u001b[0m\u001b[0mfit\u001b[0m\u001b[0;34m(\u001b[0m\u001b[0mnp\u001b[0m\u001b[0;34m.\u001b[0m\u001b[0mvander\u001b[0m\u001b[0;34m(\u001b[0m\u001b[0mx\u001b[0m\u001b[0;34m,\u001b[0m \u001b[0mdegree\u001b[0m \u001b[0;34m+\u001b[0m \u001b[0;36m1\u001b[0m\u001b[0;34m)\u001b[0m\u001b[0;34m,\u001b[0m \u001b[0my\u001b[0m\u001b[0;34m)\u001b[0m\u001b[0;34m\u001b[0m\u001b[0m\n\u001b[1;32m     12\u001b[0m     \u001b[0;32mreturn\u001b[0m \u001b[0mmodel\u001b[0m\u001b[0;34m\u001b[0m\u001b[0m\n",
      "\u001b[0;31mNameError\u001b[0m: name 'LinearRegression' is not defined"
     ]
    }
   ],
   "source": [
    "from sklearn import linear_model\n",
    "\n",
    "def fit_polynomial(x, y, degree):\n",
    "    '''\n",
    "    Fits a polynomial to the input sample.\n",
    "    (x,y): input sample\n",
    "    degree: polynomial degree\n",
    "    '''\n",
    "    model = linear_model.LinearRegression()\n",
    "    model = LinearRegression()\n",
    "    model.fit(np.vander(x, degree + 1), y)\n",
    "    return model\n",
    "\n",
    "def apply_polynomial(model, x):\n",
    "    '''\n",
    "    Evaluates a linear regression model in an input sample\n",
    "    model: linear regression model\n",
    "    x: input sample\n",
    "    '''\n",
    "    degree = model.coef_.size - 1\n",
    "    y = model.predict(np.vander(x, degree + 1))\n",
    "    return y\n",
    "\n",
    "model = fit_polynomial(x, y, 8)\n",
    "p_y = apply_polynomial(model, x)\n",
    "plt.plot(x, y)\n",
    "plt.plot(x, y, 'k.')\n",
    "plt.plot(x, p_y)\n"
   ]
  },
  {
   "cell_type": "code",
   "execution_count": null,
   "metadata": {},
   "outputs": [],
   "source": [
    "#m=6\n",
    "m=6"
   ]
  },
  {
   "cell_type": "markdown",
   "metadata": {},
   "source": [
    "Split Dataset into train and test\n",
    "------------------------------------------\n",
    "In practice, __never__ touch test data while training. It is only to be used to check the model"
   ]
  },
  {
   "cell_type": "code",
   "execution_count": null,
   "metadata": {},
   "outputs": [],
   "source": [
    "x_train, x_test, y_train, y_test = train_test_split(x, y, test_size=0.25, random_state=4)"
   ]
  },
  {
   "cell_type": "code",
   "execution_count": null,
   "metadata": {},
   "outputs": [],
   "source": []
  }
 ],
 "metadata": {
  "kernelspec": {
   "display_name": "ml_env",
   "language": "python",
   "name": "ml_env"
  },
  "language_info": {
   "codemirror_mode": {
    "name": "ipython",
    "version": 3
   },
   "file_extension": ".py",
   "mimetype": "text/x-python",
   "name": "python",
   "nbconvert_exporter": "python",
   "pygments_lexer": "ipython3",
   "version": "3.6.5"
  }
 },
 "nbformat": 4,
 "nbformat_minor": 2
}
