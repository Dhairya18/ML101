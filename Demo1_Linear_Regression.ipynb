{
 "cells": [
  {
   "cell_type": "markdown",
   "metadata": {},
   "source": [
    "# Linear Regression"
   ]
  },
  {
   "cell_type": "markdown",
   "metadata": {},
   "source": [
    "First let's import the neccessary libraries"
   ]
  },
  {
   "cell_type": "code",
   "execution_count": 13,
   "metadata": {},
   "outputs": [],
   "source": [
    "import numpy as np #python library for numerical functions\n",
    "import scipy #python library for scientific computing\n",
    "import random\n",
    "import pylab\n",
    "import matplotlib.pyplot as plt #for plotting\n",
    "import seaborn as sns#for data visulaisation\n",
    "sns.set(style=\"white\", color_codes=True)\n",
    "\n",
    "import warnings\n",
    "import sklearn #python library with linear and other models\n",
    "from sklearn.cross_validation import train_test_split\n",
    "# warnings.simplefilter(action = \"ignore\", category = FutureWarning)\n",
    "warnings.filterwarnings(\"ignore\")\n",
    "import pandas as pd\n",
    "from sklearn import datasets, linear_model\n",
    "from sklearn.metrics import mean_squared_error, r2_score"
   ]
  },
  {
   "cell_type": "markdown",
   "metadata": {},
   "source": [
    " __Setting up the linear toy problem__"
   ]
  },
  {
   "cell_type": "code",
   "execution_count": 80,
   "metadata": {
    "scrolled": true
   },
   "outputs": [
    {
     "data": {
      "image/png": "[encoded data removed]",
      "text/plain": [
       "<matplotlib.figure.Figure at 0x7f2b165ead30>"
      ]
     },
     "metadata": {},
     "output_type": "display_data"
    }
   ],
   "source": [
    "N=30\n",
    "spanx=25\n",
    "# np.random.RandomState()\n",
    "x = np.random.uniform(0,spanx,N)\n",
    "y = 2*x+1\n",
    "noise = np.random.normal(0,3.5,N)\n",
    "y = y + noise\n",
    "plt.scatter(x,y, color=\"red\")\n",
    "\n",
    "plt.show()"
   ]
  },
  {
   "cell_type": "markdown",
   "metadata": {},
   "source": [
    "Cost Function:\n",
    "---------------\n",
    "__Mean Squared Error (MSE)__\n",
    "\n",
    "If $y^{(i)}$ is the actual data point, and $z^{(i)}$ be the predicted value by the model, \n",
    "\\begin{equation*}\n",
    "RMSE = \\frac{1}{2N}\\sum_{i=1}^{N}\\big(z^{(i)} - y^{(i)}\\big)^2\n",
    "\\end{equation*}\n",
    "\n",
    "Gradient\n",
    "---------\n",
    "For hypothesis $h_{\\theta}(x) = \\theta_0 + \\theta_1x \\Rightarrow z^{(i)} =\\theta_0 + \\theta_1x^{(i)}$\n",
    "\n",
    "\\begin{equation*}\n",
    "\\frac{\\partial h}{\\partial \\theta_0} = \\frac{1}{N}\\sum_{i=1}^{N}\\big(z^{(i)} - y^{(i)}\\big)\n",
    "\\end{equation*}\n",
    "\n",
    "\\begin{equation*}\n",
    "\\frac{\\partial h}{\\partial \\theta_1} = \\frac{1}{N}\\sum_{i=1}^{N}\\big(z^{(i)} - y^{(i)}\\big).x^{(i)}\n",
    "\\end{equation*}\n"
   ]
  },
  {
   "cell_type": "code",
   "execution_count": 81,
   "metadata": {},
   "outputs": [],
   "source": [
    "def sq_err(y,z):\n",
    "    y_actual=np.array(y)\n",
    "    y_pred=np.array(z)\n",
    "    error=(y_actual - y_pred)**2\n",
    "    error_mean=np.round(0.5*np.mean(error))\n",
    "    return error_mean"
   ]
  },
  {
   "cell_type": "markdown",
   "metadata": {},
   "source": [
    "Batch Gradient Descent\n",
    "-----------------\n"
   ]
  },
  {
   "cell_type": "markdown",
   "metadata": {},
   "source": [
    "__alpha__: The learning rate for gradient descent. It is a hyperparameter. Typical values of 0.1 to 0.001\n",
    "\n",
    "__epochs__: the no. of steps taken"
   ]
  },
  {
   "cell_type": "code",
   "execution_count": 82,
   "metadata": {},
   "outputs": [
    {
     "data": {
      "text/plain": [
       "(30, 2)"
      ]
     },
     "execution_count": 82,
     "metadata": {},
     "output_type": "execute_result"
    }
   ],
   "source": [
    "x=np.reshape(x, (N,1))\n",
    "X = np.column_stack((np.ones(N),x))\n",
    "X.shape"
   ]
  },
  {
   "cell_type": "code",
   "execution_count": 83,
   "metadata": {},
   "outputs": [],
   "source": [
    "# df_x = pd.DataFrame(X)\n",
    "# df_x"
   ]
  },
  {
   "cell_type": "code",
   "execution_count": 84,
   "metadata": {},
   "outputs": [],
   "source": [
    "alpha=0.01\n",
    "total_epoch=5000\n",
    "theta = np.array([0.1,0.1])\n",
    "theta = np.reshape(theta, (2,1))\n",
    "theta.shape\n",
    "lossHistory=np.zeros([1,total_epoch]).T\n",
    "t_e=np.zeros([2,total_epoch]).T\n",
    "\n",
    "\n",
    "for epoch in range(total_epoch):\n",
    "    h=X@theta\n",
    "    lossHistory[epoch] = sq_err(y,h)\n",
    "    del0=0\n",
    "    del1=0    \n",
    "    t_e[epoch][0]=theta[0]\n",
    "    t_e[epoch][1]=theta[1]\n",
    "    \n",
    "    for i in range(N):\n",
    "        del0 = del0 + h[i]-y[i]\n",
    "        del1 = del1 + (h[i]-y[i])*x[i]\n",
    "        \n",
    "    del0 = del0/N\n",
    "    del1 = del1/N\n",
    "    grad=np.array([del0, del1])\n",
    "    theta = theta - alpha*grad\n"
   ]
  },
  {
   "cell_type": "code",
   "execution_count": 85,
   "metadata": {},
   "outputs": [
    {
     "data": {
      "image/png": "[encoded data removed]",
      "text/plain": [
       "<matplotlib.figure.Figure at 0x7f2b16bfb860>"
      ]
     },
     "metadata": {},
     "output_type": "display_data"
    }
   ],
   "source": [
    "ep = np.linspace(0, total_epoch-1, total_epoch, endpoint=True)\n",
    "plt.semilogx(ep, lossHistory, lossHistory)\n",
    "plt.title(\"Training Loss\")\n",
    "plt.xlabel(\"Epoch #\")\n",
    "plt.ylabel(\"Loss\")\n",
    "plt.show()"
   ]
  },
  {
   "cell_type": "code",
   "execution_count": 86,
   "metadata": {},
   "outputs": [
    {
     "name": "stdout",
     "output_type": "stream",
     "text": [
      "At epoch epoch_no, 5 theta_0= 0.249592,theta1= 2.216838.\n",
      "At epoch epoch_no, 0 theta_0= 0.100000,theta1= 0.100000.\n",
      "At epoch epoch_no, 1 theta_0= 0.216079,theta1= 1.738471.\n",
      "At epoch epoch_no, 99 theta_0= 0.410762,theta1= 2.021483.\n",
      "At epoch epoch_no, 999 theta_0= 0.898068,theta1= 1.989516.\n",
      "At epoch epoch_no, 4999 theta_0= 0.931330,theta1= 1.987334.\n"
     ]
    },
    {
     "data": {
      "image/png": "[encoded data removed]",
      "text/plain": [
       "<matplotlib.figure.Figure at 0x7f2b16798630>"
      ]
     },
     "metadata": {},
     "output_type": "display_data"
    }
   ],
   "source": [
    "# t_e=np.around(t_e,3)\n",
    "lx = np.linspace(0, spanx, 256, endpoint=True)\n",
    "\n",
    "epoch_no=5\n",
    "S = t_e[epoch_no][0]+t_e[epoch_no][1]*lx\n",
    "plt.plot(lx, S, color=\"blue\",  linewidth=1.5, linestyle=\"-\")\n",
    "print(\"At epoch epoch_no, %d theta_0= %f,theta1= %f.\" %(epoch_no, t_e[epoch_no][0], t_e[epoch_no][1]) )\n",
    "\n",
    "S0 = t_e[0][0]+t_e[0][1]*lx\n",
    "plt.plot(lx, S0, color=\"purple\",  linewidth=1.5, linestyle=\"-\")\n",
    "print(\"At epoch epoch_no, %d theta_0= %f,theta1= %f.\" %(0, t_e[0][0], t_e[0][1]) )\n",
    "\n",
    "print(\"At epoch epoch_no, %d theta_0= %f,theta1= %f.\" %(1, t_e[4][0], t_e[4][1]) )\n",
    "\n",
    "S99 = t_e[99][0]+t_e[99][1]*lx\n",
    "plt.plot(lx, S99, color=\"green\",  linewidth=1.5, linestyle=\"-\")\n",
    "print(\"At epoch epoch_no, %d theta_0= %f,theta1= %f.\" %(99, t_e[99][0], t_e[99][1]) )\n",
    "\n",
    "S999 = t_e[999][0]+t_e[999][1]*lx\n",
    "plt.plot(lx, S999, color=\"pink\",  linewidth=1.5, linestyle=\"-\")\n",
    "print(\"At epoch epoch_no, %d theta_0= %f,theta1= %f.\" %(999, t_e[999][0], t_e[999][1]) )\n",
    "\n",
    "S_end = t_e[total_epoch-1][0]+t_e[total_epoch-1][1]*lx\n",
    "plt.plot(lx, S_end, color=\"green\",  linewidth=1.5, linestyle=\"-\")\n",
    "print(\"At epoch epoch_no, %d theta_0= %f,theta1= %f.\" %(total_epoch-1, t_e[total_epoch-1][0], t_e[total_epoch-1][1]) )\n",
    "\n",
    "m = 1+ 2*lx\n",
    "plt.plot(lx, S99, color=\"orange\",  linewidth=1.5, linestyle=\"-\")\n",
    "\n",
    "plt.scatter(x,y, color=\"red\")\n",
    "plt.show()"
   ]
  },
  {
   "cell_type": "markdown",
   "metadata": {},
   "source": [
    "Using Packages to achieve the same\n",
    "---------------------------------------\n",
    "__Tensorflow__ is one such package that has inbuilt regressions"
   ]
  },
  {
   "cell_type": "code",
   "execution_count": 9,
   "metadata": {},
   "outputs": [],
   "source": [
    "import tensorflow as tf\n",
    "rng = np.random"
   ]
  },
  {
   "cell_type": "code",
   "execution_count": 10,
   "metadata": {},
   "outputs": [
    {
     "ename": "SyntaxError",
     "evalue": "invalid syntax (<ipython-input-10-df6a0b70aca7>, line 32)",
     "output_type": "error",
     "traceback": [
      "\u001b[0;36m  File \u001b[0;32m\"<ipython-input-10-df6a0b70aca7>\"\u001b[0;36m, line \u001b[0;32m32\u001b[0m\n\u001b[0;31m    for epoch in range(training epochs):\u001b[0m\n\u001b[0m                                     ^\u001b[0m\n\u001b[0;31mSyntaxError\u001b[0m\u001b[0;31m:\u001b[0m invalid syntax\n"
     ]
    }
   ],
   "source": [
    "training_epochs = 1000\n",
    "display_step=50\n",
    "\n",
    "#tf Graph Input\n",
    "A = tf.placeholder(\"float\")\n",
    "B = tf.placeholer(\"float\")\n",
    "\n",
    "#Set Model Weights\n",
    "W = tf.Variable(rng.randn(), name='weight')\n",
    "b = tf.Variable(rng.randn(), name='bias')\n",
    "\n",
    "#Construct a linear Model\n",
    "pred = tf.add(tf.multiply(A,W),b)\n",
    "\n",
    "#Mean Squared Error\n",
    "cost = tf.reduce_sum(tf.pow(pred-B, 2))/(2*N)\n",
    "\n",
    "#Gradient Decent\n",
    "#By default Variable objects are trainable=True\n",
    "optimizer = tf.train.GradientDescentOptimizer(alpha).minimize(cost)\n",
    "\n",
    "#Initialize the variables\n",
    "init = tf.global_variables_initializer()\n",
    "\n",
    "#Start Training\n",
    "with tf.Session as sess:\n",
    "    \n",
    "    #Run the initializer\n",
    "    sess.run(init)\n",
    "    \n",
    "    #Fit all training data\n",
    "    for epoch in range(training epochs):\n",
    "        for(a,b) in zip(x,y):\n",
    "            sess.run(optimizer, feed_dict={A: a, B: b})\n",
    "            \n",
    "        if(epoch+1)%display_step ==0: #displaying log per display step\n",
    "            c=sess.run(cost, feed_dict={A: a, B: b})"
   ]
  },
  {
   "cell_type": "code",
   "execution_count": null,
   "metadata": {},
   "outputs": [],
   "source": []
  }
 ],
 "metadata": {
  "kernelspec": {
   "display_name": "ml_env",
   "language": "python",
   "name": "ml_env"
  },
  "language_info": {
   "codemirror_mode": {
    "name": "ipython",
    "version": 3
   },
   "file_extension": ".py",
   "mimetype": "text/x-python",
   "name": "python",
   "nbconvert_exporter": "python",
   "pygments_lexer": "ipython3",
   "version": "3.6.5"
  }
 },
 "nbformat": 4,
 "nbformat_minor": 2
}
